{
 "cells": [
  {
   "cell_type": "markdown",
   "metadata": {},
   "source": [
    "# Heart Disease\n",
    "\n",
    "In this example I have used different feature tuning techniques and applied each of them on different ML algorithms to compare their accuracies to see which one is the better model.\n",
    "<br>\n",
    "Feature selection is also demonstrated but could not make it to the prediction stage since it was not necessary not required."
   ]
  },
  {
   "cell_type": "markdown",
   "metadata": {},
   "source": [
    "__[Dataset can be found here](https://www.kaggle.com/ronitf/heart-disease-uci)__"
   ]
  },
  {
   "cell_type": "code",
   "execution_count": 20,
   "metadata": {},
   "outputs": [],
   "source": [
    "import pandas as pd\n",
    "import numpy as np\n",
    "import matplotlib.pyplot as plt\n",
    "\n",
    "heart_disease = pd.read_csv(\"/home/aditya/Downloads/heart.csv\")\n",
    "X = heart_disease[[\"age\",\"sex\",\"cp\",\"trestbps\",\"chol\",\"fbs\",\"restecg\",\"thalach\",\"exang\",\"oldpeak\",\"slope\",\"ca\",\"thal\"]]\n",
    "y = heart_disease[\"target\"]"
   ]
  },
  {
   "cell_type": "code",
   "execution_count": 21,
   "metadata": {},
   "outputs": [],
   "source": [
    "from sklearn.model_selection import train_test_split\n",
    "x_train, x_test, y_train, y_test = train_test_split(X,y, random_state = 1, test_size = 0.1)"
   ]
  },
  {
   "cell_type": "markdown",
   "metadata": {},
   "source": [
    "# Feature selection "
   ]
  },
  {
   "cell_type": "code",
   "execution_count": 22,
   "metadata": {},
   "outputs": [
    {
     "data": {
      "image/png": "[encoded data removed]",
      "text/plain": [
       "<Figure size 432x288 with 1 Axes>"
      ]
     },
     "metadata": {
      "needs_background": "light"
     },
     "output_type": "display_data"
    }
   ],
   "source": [
    "from sklearn.ensemble import RandomForestClassifier\n",
    "forest = RandomForestClassifier(n_estimators=500)\n",
    "forest.fit(x_train, y_train)\n",
    "\n",
    "importances = forest.feature_importances_\n",
    "indices =np.argsort(importances)[::-1]\n",
    "\n",
    "plt.bar(range(x_train.shape[1]),importances[indices])\n",
    "plt.xticks(range(x_train.shape[1]),heart_disease.columns[indices], rotation=90)\n",
    "plt.show()"
   ]
  },
  {
   "cell_type": "code",
   "execution_count": 23,
   "metadata": {},
   "outputs": [
    {
     "data": {
      "text/plain": [
       "Index(['cp', 'thalach'], dtype='object')"
      ]
     },
     "execution_count": 23,
     "metadata": {},
     "output_type": "execute_result"
    }
   ],
   "source": [
    "heart_disease.columns[indices][:2]\n",
    "# Most important features are these"
   ]
  },
  {
   "cell_type": "code",
   "execution_count": 24,
   "metadata": {},
   "outputs": [],
   "source": [
    "X_new = X.values[:,[2,7]]"
   ]
  },
  {
   "cell_type": "code",
   "execution_count": 25,
   "metadata": {},
   "outputs": [],
   "source": [
    "from sklearn.model_selection import train_test_split\n",
    "x_train, x_test, y_train, y_test = train_test_split(X_new,y, random_state = 1, test_size = 0.1)"
   ]
  },
  {
   "cell_type": "code",
   "execution_count": 26,
   "metadata": {},
   "outputs": [
    {
     "data": {
      "text/plain": [
       "<matplotlib.collections.PathCollection at 0x7f0f569a4ef0>"
      ]
     },
     "execution_count": 26,
     "metadata": {},
     "output_type": "execute_result"
    },
    {
     "data": {
      "image/png": "[encoded data removed]",
      "text/plain": [
       "<Figure size 432x288 with 1 Axes>"
      ]
     },
     "metadata": {
      "needs_background": "light"
     },
     "output_type": "display_data"
    }
   ],
   "source": [
    "plt.scatter(x_train[y_train ==0,0],x_train[y_train==0,1])\n",
    "plt.scatter(x_train[y_train ==1,0],x_train[y_train==1,1])"
   ]
  },
  {
   "cell_type": "code",
   "execution_count": 41,
   "metadata": {},
   "outputs": [],
   "source": [
    "from sklearn.model_selection import train_test_split\n",
    "x_train, x_test, y_train, y_test = train_test_split(X,y, random_state = 1, test_size = 0.1)"
   ]
  },
  {
   "cell_type": "markdown",
   "metadata": {},
   "source": [
    "# Feature Extraction "
   ]
  },
  {
   "cell_type": "markdown",
   "metadata": {},
   "source": [
    "#####  Using LDA "
   ]
  },
  {
   "cell_type": "code",
   "execution_count": 42,
   "metadata": {},
   "outputs": [],
   "source": [
    "from sklearn.discriminant_analysis import LinearDiscriminantAnalysis as LDA\n",
    "from sklearn.decomposition import PCA\n",
    "lda = LDA(n_components = None)\n",
    "x_train_lda = lda.fit_transform(x_train, y_train)\n",
    "x_test_lda = lda.fit_transform(x_test, y_test)"
   ]
  },
  {
   "cell_type": "markdown",
   "metadata": {},
   "source": [
    "##### Using KPCA"
   ]
  },
  {
   "cell_type": "code",
   "execution_count": 43,
   "metadata": {},
   "outputs": [],
   "source": [
    "from sklearn.decomposition import KernelPCA\n",
    "kpca = KernelPCA(n_components=3, kernel = \"rbf\",gamma = 15)\n",
    "x_train_kpca = kpca.fit_transform(x_train)\n",
    "x_test_kpca = kpca.fit_transform(x_test)"
   ]
  },
  {
   "cell_type": "markdown",
   "metadata": {},
   "source": [
    "##### Using PCA "
   ]
  },
  {
   "cell_type": "code",
   "execution_count": 44,
   "metadata": {},
   "outputs": [],
   "source": [
    "from sklearn.decomposition import PCA\n",
    "kpca = PCA(n_components=2)\n",
    "x_train_pca = kpca.fit_transform(x_train)\n",
    "x_test_pca = kpca.fit_transform(x_test)"
   ]
  },
  {
   "cell_type": "markdown",
   "metadata": {},
   "source": [
    "# Prediction using different Algorithms on different training set "
   ]
  },
  {
   "cell_type": "code",
   "execution_count": 45,
   "metadata": {},
   "outputs": [
    {
     "data": {
      "text/plain": [
       "0.967741935483871"
      ]
     },
     "execution_count": 45,
     "metadata": {},
     "output_type": "execute_result"
    }
   ],
   "source": [
    "from sklearn.linear_model import LogisticRegression\n",
    "lr = LogisticRegression(solver = \"liblinear\",multi_class = \"auto\")\n",
    "\n",
    "\n",
    "lr.fit(x_train_lda, y_train)\n",
    "\n",
    "y_pred = lr.predict(x_test_lda)\n",
    "\n",
    "from sklearn.metrics import accuracy_score\n",
    "accuracy_score(y_test, y_pred)"
   ]
  },
  {
   "cell_type": "code",
   "execution_count": 46,
   "metadata": {},
   "outputs": [
    {
     "data": {
      "text/plain": [
       "0.9354838709677419"
      ]
     },
     "execution_count": 46,
     "metadata": {},
     "output_type": "execute_result"
    }
   ],
   "source": [
    "from sklearn.svm import SVC\n",
    "svm = SVC(kernel = \"rbf\",gamma = 2**-5, C = 1.0)\n",
    "svm.fit(x_train_lda, y_train)\n",
    "y_pred = svm.predict(x_test_lda)\n",
    "\n",
    "from sklearn.metrics import accuracy_score\n",
    "accuracy_score(y_test, y_pred)"
   ]
  },
  {
   "cell_type": "code",
   "execution_count": 47,
   "metadata": {},
   "outputs": [
    {
     "data": {
      "text/plain": [
       "0.9354838709677419"
      ]
     },
     "execution_count": 47,
     "metadata": {},
     "output_type": "execute_result"
    }
   ],
   "source": [
    "from sklearn.tree import DecisionTreeClassifier\n",
    "tree = DecisionTreeClassifier(criterion=\"gini\",\n",
    "                             max_depth=4,\n",
    "                             random_state = 1)\n",
    "tree.fit(x_train_lda, y_train)\n",
    "y_pred = tree.predict(x_test_lda)\n",
    "\n",
    "from sklearn.metrics import accuracy_score\n",
    "accuracy_score(y_test, y_pred)"
   ]
  },
  {
   "cell_type": "code",
   "execution_count": 48,
   "metadata": {},
   "outputs": [
    {
     "data": {
      "text/plain": [
       "0.9354838709677419"
      ]
     },
     "execution_count": 48,
     "metadata": {},
     "output_type": "execute_result"
    }
   ],
   "source": [
    "from sklearn.ensemble import RandomForestClassifier\n",
    "forest = RandomForestClassifier(criterion=\"gini\",\n",
    "                               n_estimators=25,\n",
    "                               random_state = 1,\n",
    "                               n_jobs = 2)\n",
    "forest.fit(x_train_lda, y_train)\n",
    "y_pred = tree.predict(x_test_lda)\n",
    "\n",
    "from sklearn.metrics import accuracy_score\n",
    "accuracy_score(y_test, y_pred)"
   ]
  },
  {
   "cell_type": "code",
   "execution_count": 49,
   "metadata": {},
   "outputs": [
    {
     "data": {
      "text/plain": [
       "0.967741935483871"
      ]
     },
     "execution_count": 49,
     "metadata": {},
     "output_type": "execute_result"
    }
   ],
   "source": [
    "from sklearn.neighbors import KNeighborsClassifier\n",
    "knn = KNeighborsClassifier(n_neighbors=5, p = 2,\n",
    "                          metric = \"minkowski\")\n",
    "knn.fit(x_train_lda, y_train)\n",
    "y_pred = knn.predict(x_test_lda)\n",
    "\n",
    "from sklearn.metrics import accuracy_score\n",
    "accuracy_score(y_test, y_pred)"
   ]
  },
  {
   "cell_type": "markdown",
   "metadata": {},
   "source": [
    "# Comparing average accuracy of different models for better model selection "
   ]
  },
  {
   "cell_type": "code",
   "execution_count": 50,
   "metadata": {},
   "outputs": [
    {
     "name": "stdout",
     "output_type": "stream",
     "text": [
      "\t\tAverage Accuracy for Logistic Regression\n",
      "\n",
      "CV accuracy scores [0.64285714 0.82142857 0.77777778 0.81481481 0.88888889 0.92592593\n",
      " 0.77777778 0.96296296 0.92592593 0.88888889]\n",
      "\n",
      "CV accuracy: 0.8427248677248678 +/- 0.0906532542915445\n"
     ]
    }
   ],
   "source": [
    "from sklearn.model_selection import cross_val_score\n",
    "scores = cross_val_score(estimator=lr,\n",
    "                       X = x_train_lda,\n",
    "                       y = y_train,\n",
    "                       cv = 10,\n",
    "                       n_jobs = 1)\n",
    "print(\"\\t\\tAverage Accuracy for Logistic Regression\",end = \"\\n\\n\")\n",
    "print(\"CV accuracy scores {}\".format(scores), end = \"\\n\\n\")\n",
    "print(\"CV accuracy: {mean} +/- {standard_deviation}\"\n",
    "      .format(mean = np.mean(scores),\n",
    "             standard_deviation = np.std(scores)))"
   ]
  },
  {
   "cell_type": "code",
   "execution_count": 51,
   "metadata": {},
   "outputs": [
    {
     "name": "stdout",
     "output_type": "stream",
     "text": [
      "\t\tAverage Accuracy for SVM\n",
      "\n",
      "CV accuracy scores [0.64285714 0.82142857 0.74074074 0.81481481 0.88888889 0.88888889\n",
      " 0.77777778 0.92592593 0.92592593 0.88888889]\n",
      "\n",
      "CV accuracy: 0.8316137566137567 +/- 0.08648821434328831\n"
     ]
    }
   ],
   "source": [
    "from sklearn.model_selection import cross_val_score\n",
    "scores = cross_val_score(estimator=svm,\n",
    "                       X = x_train_lda,\n",
    "                       y = y_train,\n",
    "                       cv = 10,\n",
    "                       n_jobs = 1)\n",
    "print(\"\\t\\tAverage Accuracy for SVM\",end = \"\\n\\n\")\n",
    "print(\"CV accuracy scores {}\".format(scores), end = \"\\n\\n\")\n",
    "print(\"CV accuracy: {mean} +/- {standard_deviation}\"\n",
    "      .format(mean = np.mean(scores),\n",
    "             standard_deviation = np.std(scores)))"
   ]
  },
  {
   "cell_type": "code",
   "execution_count": 52,
   "metadata": {},
   "outputs": [
    {
     "name": "stdout",
     "output_type": "stream",
     "text": [
      "\t\tAverage Accuracy for Decision Trees\n",
      "\n",
      "CV accuracy scores [0.64285714 0.85714286 0.74074074 0.85185185 0.92592593 0.92592593\n",
      " 0.85185185 0.81481481 0.88888889 0.66666667]\n",
      "\n",
      "CV accuracy: 0.8166666666666667 +/- 0.09575148223858486\n"
     ]
    }
   ],
   "source": [
    "from sklearn.model_selection import cross_val_score\n",
    "scores = cross_val_score(estimator=tree,\n",
    "                       X = x_train_lda,\n",
    "                       y = y_train,\n",
    "                       cv = 10,\n",
    "                       n_jobs = 1)\n",
    "print(\"\\t\\tAverage Accuracy for Decision Trees\",end = \"\\n\\n\")\n",
    "print(\"CV accuracy scores {}\".format(scores), end = \"\\n\\n\")\n",
    "print(\"CV accuracy: {mean} +/- {standard_deviation}\"\n",
    "      .format(mean = np.mean(scores),\n",
    "             standard_deviation = np.std(scores)))"
   ]
  },
  {
   "cell_type": "code",
   "execution_count": 53,
   "metadata": {},
   "outputs": [
    {
     "name": "stdout",
     "output_type": "stream",
     "text": [
      "\t\tAverage Accuracy for Random Forest\n",
      "\n",
      "CV accuracy scores [0.67857143 0.78571429 0.77777778 0.7037037  0.88888889 0.81481481\n",
      " 0.77777778 0.7037037  0.74074074 0.55555556]\n",
      "\n",
      "CV accuracy: 0.7427248677248677 +/- 0.08547727126895267\n"
     ]
    }
   ],
   "source": [
    "from sklearn.model_selection import cross_val_score\n",
    "scores = cross_val_score(estimator=forest,\n",
    "                       X = x_train_lda,\n",
    "                       y = y_train,\n",
    "                       cv = 10,\n",
    "                       n_jobs = 1)\n",
    "print(\"\\t\\tAverage Accuracy for Random Forest\",end = \"\\n\\n\")\n",
    "print(\"CV accuracy scores {}\".format(scores), end = \"\\n\\n\")\n",
    "print(\"CV accuracy: {mean} +/- {standard_deviation}\"\n",
    "      .format(mean = np.mean(scores),\n",
    "             standard_deviation = np.std(scores)))"
   ]
  },
  {
   "cell_type": "code",
   "execution_count": 54,
   "metadata": {},
   "outputs": [
    {
     "name": "stdout",
     "output_type": "stream",
     "text": [
      "\t\tAverage Accuracy for KNN\n",
      "\n",
      "CV accuracy scores [0.67857143 0.85714286 0.74074074 0.74074074 0.88888889 0.88888889\n",
      " 0.81481481 0.85185185 0.92592593 0.81481481]\n",
      "\n",
      "CV accuracy: 0.8202380952380951 +/- 0.07464924559662199\n"
     ]
    }
   ],
   "source": [
    "from sklearn.model_selection import cross_val_score\n",
    "scores = cross_val_score(estimator=knn,\n",
    "                       X = x_train_lda,\n",
    "                       y = y_train,\n",
    "                       cv = 10,\n",
    "                       n_jobs = 1)\n",
    "print(\"\\t\\tAverage Accuracy for KNN\",end = \"\\n\\n\")\n",
    "print(\"CV accuracy scores {}\".format(scores), end = \"\\n\\n\")\n",
    "print(\"CV accuracy: {mean} +/- {standard_deviation}\"\n",
    "      .format(mean = np.mean(scores),\n",
    "             standard_deviation = np.std(scores)))"
   ]
  },
  {
   "cell_type": "markdown",
   "metadata": {},
   "source": [
    "**From the above example it is clear that logistic regression is the best model for prediction on this dataset, which makes sense since it is a classification problem**\n",
    "<br>\n",
    "I have used *lda* values for prediction, however *pca* and *kpca* can also be used only the variable names are needed to be changed"
   ]
  }
 ],
 "metadata": {
  "kernelspec": {
   "display_name": "Python 3",
   "language": "python",
   "name": "python3"
  },
  "language_info": {
   "codemirror_mode": {
    "name": "ipython",
    "version": 3
   },
   "file_extension": ".py",
   "mimetype": "text/x-python",
   "name": "python",
   "nbconvert_exporter": "python",
   "pygments_lexer": "ipython3",
   "version": "3.7.1"
  }
 },
 "nbformat": 4,
 "nbformat_minor": 2
}
