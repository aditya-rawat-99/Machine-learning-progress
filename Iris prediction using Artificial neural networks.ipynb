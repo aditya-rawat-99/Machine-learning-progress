{
 "cells": [
  {
   "cell_type": "code",
   "execution_count": 109,
   "metadata": {},
   "outputs": [],
   "source": [
    "from sklearn.datasets import load_iris\n",
    "iris = load_iris()\n",
    "X,y = iris.data, iris.target\n",
    "\n",
    "from sklearn.model_selection import train_test_split\n",
    "from sklearn.metrics import accuracy_score\n",
    "from sklearn.preprocessing import StandardScaler\n",
    "\n",
    "X_train, X_test, y_train, y_test = train_test_split(X,y,random_state = 1, test_size = 0.1)\n",
    "\n",
    "sc = StandardScaler()\n",
    "X_train_std = sc.fit_transform(X_train)\n",
    "X_test_std = sc.fit_transform(X_test)\n",
    "\n",
    "y_train_onehot = keras.utils.to_categorical(y_train)"
   ]
  },
  {
   "cell_type": "code",
   "execution_count": 165,
   "metadata": {},
   "outputs": [
    {
     "name": "stderr",
     "output_type": "stream",
     "text": [
      "[Parallel(n_jobs=1)]: Using backend SequentialBackend with 1 concurrent workers.\n"
     ]
    },
    {
     "name": "stdout",
     "output_type": "stream",
     "text": [
      "Epoch 1/10\n",
      "90/90 [==============================] - 3s 34ms/step - loss: 0.9378 - acc: 0.5889\n",
      "Epoch 2/10\n",
      "90/90 [==============================] - 0s 389us/step - loss: 0.7543 - acc: 0.7556\n",
      "Epoch 3/10\n",
      "90/90 [==============================] - 0s 454us/step - loss: 0.6576 - acc: 0.7667\n",
      "Epoch 4/10\n",
      "90/90 [==============================] - 0s 517us/step - loss: 0.5647 - acc: 0.7778\n",
      "Epoch 5/10\n",
      "90/90 [==============================] - 0s 518us/step - loss: 0.4820 - acc: 0.9111\n",
      "Epoch 6/10\n",
      "90/90 [==============================] - 0s 505us/step - loss: 0.4379 - acc: 0.8556\n",
      "Epoch 7/10\n",
      "90/90 [==============================] - 0s 470us/step - loss: 0.3948 - acc: 0.9333\n",
      "Epoch 8/10\n",
      "90/90 [==============================] - 0s 495us/step - loss: 0.3686 - acc: 0.9111\n",
      "Epoch 9/10\n",
      "90/90 [==============================] - 0s 513us/step - loss: 0.3307 - acc: 0.9444\n",
      "Epoch 10/10\n",
      "90/90 [==============================] - 0s 531us/step - loss: 0.3178 - acc: 0.9333\n",
      "45/45 [==============================] - 1s 32ms/step\n",
      "Epoch 1/10\n",
      "90/90 [==============================] - 4s 44ms/step - loss: 1.0532 - acc: 0.4889\n",
      "Epoch 2/10\n",
      "90/90 [==============================] - 0s 423us/step - loss: 0.8640 - acc: 0.6778\n",
      "Epoch 3/10\n",
      "90/90 [==============================] - 0s 450us/step - loss: 0.7325 - acc: 0.7000\n",
      "Epoch 4/10\n",
      "90/90 [==============================] - 0s 375us/step - loss: 0.6240 - acc: 0.8333\n",
      "Epoch 5/10\n",
      "90/90 [==============================] - 0s 315us/step - loss: 0.5384 - acc: 0.9667\n",
      "Epoch 6/10\n",
      "90/90 [==============================] - 0s 433us/step - loss: 0.4932 - acc: 0.7333\n",
      "Epoch 7/10\n",
      "90/90 [==============================] - 0s 304us/step - loss: 0.4303 - acc: 0.9111\n",
      "Epoch 8/10\n",
      "90/90 [==============================] - 0s 403us/step - loss: 0.3888 - acc: 0.9556\n",
      "Epoch 9/10\n",
      "90/90 [==============================] - 0s 385us/step - loss: 0.3555 - acc: 0.9222\n",
      "Epoch 10/10\n",
      "90/90 [==============================] - 0s 329us/step - loss: 0.3348 - acc: 0.9889\n",
      "45/45 [==============================] - 2s 43ms/step\n",
      "Epoch 1/10\n",
      "90/90 [==============================] - 4s 50ms/step - loss: 0.9966 - acc: 0.5333\n",
      "Epoch 2/10\n",
      "90/90 [==============================] - 0s 565us/step - loss: 0.8690 - acc: 0.6333\n",
      "Epoch 3/10\n",
      "90/90 [==============================] - 0s 576us/step - loss: 0.6923 - acc: 0.7000\n",
      "Epoch 4/10\n",
      "90/90 [==============================] - 0s 353us/step - loss: 0.5922 - acc: 0.7444\n",
      "Epoch 5/10\n",
      "90/90 [==============================] - 0s 644us/step - loss: 0.5345 - acc: 0.8667\n",
      "Epoch 6/10\n",
      "90/90 [==============================] - 0s 396us/step - loss: 0.4728 - acc: 0.7333\n",
      "Epoch 7/10\n",
      "90/90 [==============================] - 0s 437us/step - loss: 0.4575 - acc: 0.8556\n",
      "Epoch 8/10\n",
      "90/90 [==============================] - 0s 422us/step - loss: 0.4035 - acc: 0.8778\n",
      "Epoch 9/10\n",
      "90/90 [==============================] - 0s 480us/step - loss: 0.4007 - acc: 0.8333\n",
      "Epoch 10/10\n",
      "90/90 [==============================] - 0s 447us/step - loss: 0.3579 - acc: 0.9444\n",
      "45/45 [==============================] - 2s 52ms/step\n"
     ]
    },
    {
     "name": "stderr",
     "output_type": "stream",
     "text": [
      "[Parallel(n_jobs=1)]: Done   3 out of   3 | elapsed:   19.9s finished\n"
     ]
    },
    {
     "data": {
      "text/plain": [
       "array([0.82222221, 0.97777777, 0.9111111 ])"
      ]
     },
     "execution_count": 165,
     "metadata": {},
     "output_type": "execute_result"
    }
   ],
   "source": [
    "import tensorflow as tf \n",
    "from keras.models import Sequential\n",
    "from keras.layers import Dense\n",
    "from keras.optimizers import Adam\n",
    "from keras.losses import sparse_categorical_crossentropy\n",
    "from sklearn.model_selection import cross_val_score\n",
    "\n",
    "def model_keras ():\n",
    "    tf.set_random_seed(1)\n",
    "    model = keras.models.Sequential()\n",
    "    \n",
    "    model.add(Dense(units = 100, input_dim = 4,activation = \"relu\"))\n",
    "    model.add(Dense(units = 100, activation = \"relu\"))\n",
    "    model.add(Dense(units = y_train_onehot.shape[1], activation = \"softmax\"))\n",
    "\n",
    "    model.compile(optimizer = Adam(lr = 0.001), metrics = [\"accuracy\"], loss = \"categorical_crossentropy\")\n",
    "    #model.fit(X_train_std,y_train_onehot,batch_size=10,epochs = 20,verbose = False)\n",
    "\n",
    "    return model\n",
    "\n",
    "from keras.wrappers.scikit_learn import KerasClassifier\n",
    "model_wrapper_scikit_learn = KerasClassifier(build_fn = model_keras,\n",
    "                                            epochs = 10,\n",
    "                                            batch_size = 10,\n",
    "                                            verbose = True)\n",
    "\n",
    "cross_val_score(model_wrapper_scikit_learn,X = X_train,y = y_train,cv = 3,verbose = True)\n"
   ]
  },
  {
   "cell_type": "code",
   "execution_count": 147,
   "metadata": {},
   "outputs": [
    {
     "name": "stdout",
     "output_type": "stream",
     "text": [
      "0.9333333333333333\n",
      "1.0\n",
      "1.0\n",
      "1.0\n",
      "0.9285714285714286\n",
      "1.0\n",
      "1.0\n",
      "1.0\n",
      "1.0\n",
      "0.9166666666666666\n"
     ]
    }
   ],
   "source": [
    "from sklearn.model_selection import StratifiedKFold\n",
    "kfold = StratifiedKFold(n_splits=10, random_state=1).split(X_train_std, y_train)\n",
    "model = model_keras()\n",
    "for k, (train,test) in enumerate(kfold):\n",
    "    \n",
    "    model.fit(X_train_std[train],keras.utils.to_categorical(y_train[train]),verbose = False)\n",
    "    \n",
    "    y_pred_onehot = model.predict(X_train_std[test])\n",
    "    \n",
    "    accuracy = accuracy_score(y_train[test],y_pred_onehot.argmax(axis = 1))\n",
    "    print(accuracy)"
   ]
  }
 ],
 "metadata": {
  "kernelspec": {
   "display_name": "Python 3",
   "language": "python",
   "name": "python3"
  },
  "language_info": {
   "codemirror_mode": {
    "name": "ipython",
    "version": 3
   },
   "file_extension": ".py",
   "mimetype": "text/x-python",
   "name": "python",
   "nbconvert_exporter": "python",
   "pygments_lexer": "ipython3",
   "version": "3.7.1"
  }
 },
 "nbformat": 4,
 "nbformat_minor": 2
}
