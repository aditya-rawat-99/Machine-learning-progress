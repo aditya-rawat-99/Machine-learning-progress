{
 "cells": [
  {
   "cell_type": "markdown",
   "metadata": {},
   "source": [
    "In this notebook I have used simple Iris dataset to show how to combine different classifiers to get a more accurate classifiers.\n",
    "<br>\n",
    "In this example I have used two classification algorithms\n",
    "* Logistic Regression\n",
    "* K-nearest neighbors\n",
    "\n",
    "Then I combined these two models to make a meta-classifier that will have more accuracy and less error rate than these two classifiers\n",
    "<br>\n",
    "<br>\n",
    "`Note: In order to make the prediction hard for individual classifers, I have set the testing size 50%, so that it becomes more clear how ensemling can help us`"
   ]
  },
  {
   "cell_type": "code",
   "execution_count": 174,
   "metadata": {},
   "outputs": [],
   "source": [
    "from sklearn import datasets\n",
    "from sklearn.preprocessing import LabelEncoder\n",
    "\n",
    "iris = datasets.load_iris()\n",
    "X, y = iris.data[50:,[1,2]], iris.target[50:]\n",
    "\n",
    "le = LabelEncoder()\n",
    "y = le.fit_transform(y)\n",
    "from sklearn.model_selection import train_test_split\n",
    "x_train, x_test, y_train, y_test = train_test_split(X,y,random_state = 1, test_size = 0.5, stratify = y)\n",
    "\n",
    "from sklearn.preprocessing import StandardScaler\n",
    "sc = StandardScaler()\n",
    "x_train_std = sc.fit_transform(x_train)\n",
    "x_test_std = sc.fit_transform(x_test)"
   ]
  },
  {
   "cell_type": "markdown",
   "metadata": {},
   "source": [
    "All the training and test sets are now ready. Next, the models will be prepared\n",
    "<br>\n",
    "Note: I have used the k-fold cross validation method to check for the average accuracy of the model on 10-folds."
   ]
  },
  {
   "cell_type": "code",
   "execution_count": 175,
   "metadata": {},
   "outputs": [],
   "source": [
    "from sklearn.model_selection import cross_val_score\n",
    "\n",
    "def clf_score(estimator):\n",
    "    scores = cross_val_score(estimator=estimator,\n",
    "                            X = x_train_std,\n",
    "                            y = y_train,\n",
    "                            cv = 10,\n",
    "                            n_jobs = 1,\n",
    "                            scoring = \"roc_auc\")\n",
    "    return scores\n",
    "\n",
    "def print_accuracy(score):\n",
    "    print(\"Scores on 10-folds:\\n {}\".format(score),end = \"\\n\\n\")\n",
    "    print(\"Average Score on 10-folds:\\n {} +\\- {}\".format(score.mean(), score.std()))"
   ]
  },
  {
   "cell_type": "markdown",
   "metadata": {},
   "source": [
    "#### Prepare Logistic Regression model"
   ]
  },
  {
   "cell_type": "code",
   "execution_count": 176,
   "metadata": {},
   "outputs": [
    {
     "name": "stdout",
     "output_type": "stream",
     "text": [
      "Scores on 10-folds:\n",
      " [1.         0.77777778 0.77777778 1.         0.66666667 0.5\n",
      " 1.         1.         1.         1.        ]\n",
      "\n",
      "Average Score on 10-folds:\n",
      " 0.8722222222222221 +\\- 0.17222222222222222\n"
     ]
    }
   ],
   "source": [
    "from sklearn.linear_model import LogisticRegression\n",
    "lr = LogisticRegression(solver = \"liblinear\",multi_class = \"auto\",C = 0.001, penalty = \"l2\",\n",
    "                       random_state = 1)\n",
    "lr.fit(x_train_std,y_train)\n",
    "\n",
    "score_lr = clf_score(lr)\n",
    "print_accuracy(score_lr)"
   ]
  },
  {
   "cell_type": "markdown",
   "metadata": {},
   "source": [
    "####  Prepare KNN model"
   ]
  },
  {
   "cell_type": "code",
   "execution_count": 177,
   "metadata": {
    "scrolled": true
   },
   "outputs": [
    {
     "name": "stdout",
     "output_type": "stream",
     "text": [
      "Scores on 10-folds:\n",
      " [1.         1.         0.66666667 1.         0.66666667 0.75\n",
      " 1.         0.75       1.         1.        ]\n",
      "\n",
      "Average Score on 10-folds:\n",
      " 0.8833333333333334 +\\- 0.1452966314513558\n"
     ]
    }
   ],
   "source": [
    "from sklearn.neighbors import KNeighborsClassifier\n",
    "knn = KNeighborsClassifier(n_neighbors=1, p = 2, metric = \"minkowski\")\n",
    "knn.fit(x_train_std, y_train)\n",
    "\n",
    "score_knn = clf_score(knn)\n",
    "print_accuracy(score_knn)"
   ]
  },
  {
   "cell_type": "markdown",
   "metadata": {},
   "source": [
    "#### Prepare Decision tree classifier"
   ]
  },
  {
   "cell_type": "code",
   "execution_count": 178,
   "metadata": {},
   "outputs": [
    {
     "name": "stdout",
     "output_type": "stream",
     "text": [
      "Scores on 10-folds:\n",
      " [1.         1.         0.83333333 0.83333333 0.5        0.75\n",
      " 1.         1.         1.         1.        ]\n",
      "\n",
      "Average Score on 10-folds:\n",
      " 0.8916666666666666 +\\- 0.15833333333333333\n"
     ]
    }
   ],
   "source": [
    "from sklearn.tree import DecisionTreeClassifier\n",
    "\n",
    "dectree = DecisionTreeClassifier(max_depth = 1, criterion=\"entropy\",random_state = 0)\n",
    "dectree.fit(x_train_std, y_train)\n",
    "\n",
    "score_dt = clf_score(dectree)\n",
    "print_accuracy(score_dt)"
   ]
  },
  {
   "cell_type": "markdown",
   "metadata": {},
   "source": [
    "#### Ensemble classifier"
   ]
  },
  {
   "cell_type": "code",
   "execution_count": 179,
   "metadata": {
    "scrolled": true
   },
   "outputs": [
    {
     "name": "stdout",
     "output_type": "stream",
     "text": [
      "Scores on 10-folds:\n",
      " [1.         1.         0.83333333 1.         0.66666667 0.75\n",
      " 1.         1.         1.         1.        ]\n",
      "\n",
      "Average Score on 10-folds:\n",
      " 0.925 +\\- 0.12047360245667466\n"
     ]
    }
   ],
   "source": [
    "from sklearn.ensemble import VotingClassifier\n",
    "\n",
    "vclf = VotingClassifier(estimators=[(\"lr\",lr),(\"knn\",knn),(\"dtree\",dectree)],voting = \"hard\")\n",
    "vclf.fit(x_train_std, y_train)\n",
    "\n",
    "score_vclf = cross_val_score(estimator=vclf,\n",
    "                            X = x_train_std,\n",
    "                            y = y_train,\n",
    "                            cv = 10,\n",
    "                            n_jobs = 1)\n",
    "print(\"Scores on 10-folds:\\n {}\".format(score_vclf),end = \"\\n\\n\")\n",
    "print(\"Average Score on 10-folds:\\n {} +\\- {}\".format(score_vclf.mean(), score_vclf.std()))"
   ]
  },
  {
   "cell_type": "markdown",
   "metadata": {},
   "source": [
    "Error rate of each classifer"
   ]
  },
  {
   "cell_type": "code",
   "execution_count": 180,
   "metadata": {},
   "outputs": [
    {
     "data": {
      "text/plain": [
       "(0.14, 0.14, 0.09999999999999998)"
      ]
     },
     "execution_count": 180,
     "metadata": {},
     "output_type": "execute_result"
    }
   ],
   "source": [
    "from sklearn.metrics import zero_one_loss, accuracy_score\n",
    "def error_rate(clf):\n",
    "    y_pred = clf.predict(x_test_std)\n",
    "    err = 1- accuracy_score(y_test,y_pred)\n",
    "    return err\n",
    "\n",
    "error_rate(lr), error_rate(knn), error_rate(dectree)"
   ]
  },
  {
   "cell_type": "markdown",
   "metadata": {},
   "source": [
    "As we can see ensembling is pretty good when we have small dataset. However, if we reduce the test size to 10% then we can see that ensembling wouldn't make much difference."
   ]
  },
  {
   "cell_type": "markdown",
   "metadata": {},
   "source": [
    "**Thing to take awaya from here**\n",
    "<br>\n",
    "*Use ensembling when the dataset is small. On that dataset, train atleast 3 classifiers then combine them to make a meta-classifier of high accuracy than the individual classifier*"
   ]
  }
 ],
 "metadata": {
  "kernelspec": {
   "display_name": "Python 3",
   "language": "python",
   "name": "python3"
  },
  "language_info": {
   "codemirror_mode": {
    "name": "ipython",
    "version": 3
   },
   "file_extension": ".py",
   "mimetype": "text/x-python",
   "name": "python",
   "nbconvert_exporter": "python",
   "pygments_lexer": "ipython3",
   "version": "3.7.1"
  }
 },
 "nbformat": 4,
 "nbformat_minor": 2
}
